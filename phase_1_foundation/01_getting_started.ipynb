{
 "cells": [
  {
   "cell_type": "markdown",
   "id": "4fc1d4ca",
   "metadata": {},
   "source": [
    "## comment\n"
   ]
  },
  {
   "cell_type": "code",
   "execution_count": 1,
   "id": "001e110b",
   "metadata": {},
   "outputs": [],
   "source": [
    "# single line comment\n",
    "\n",
    "\"\"\"\n",
    "This is multi\n",
    "line comment\n",
    "\"\"\"\n",
    "pass"
   ]
  },
  {
   "cell_type": "markdown",
   "id": "96409862",
   "metadata": {},
   "source": [
    "## variables"
   ]
  },
  {
   "cell_type": "code",
   "execution_count": 2,
   "id": "51e1aec8",
   "metadata": {},
   "outputs": [
    {
     "name": "stdout",
     "output_type": "stream",
     "text": [
      "20\n"
     ]
    }
   ],
   "source": [
    "# Variable is a container that holds data, which can be changed during program execution\n",
    "x = 5\n",
    "m = 2\n",
    "c = 10\n",
    "\n",
    "y = m * x + c\n",
    "print(y)"
   ]
  },
  {
   "cell_type": "markdown",
   "id": "3467f346",
   "metadata": {},
   "source": [
    "## data types"
   ]
  },
  {
   "cell_type": "code",
   "execution_count": 3,
   "id": "3eb7960a",
   "metadata": {},
   "outputs": [
    {
     "name": "stdout",
     "output_type": "stream",
     "text": [
      "10 <class 'int'>\n",
      "Hello world <class 'str'>\n"
     ]
    }
   ],
   "source": [
    "\"\"\"\n",
    "Numeric Types:\n",
    "    - int\n",
    "    - float\n",
    "    - complex\n",
    "\n",
    "Other Types:\n",
    "    - bool\n",
    "    - bytes\n",
    "    - NoneType\n",
    "\n",
    "Container Types (Objects):\n",
    "    - str\n",
    "    - list\n",
    "    - tuple\n",
    "    - set\n",
    "    - dict\n",
    "\n",
    "Primitive vs Non-Primitive Types:\n",
    "    - Primitive: hold a single value and are immutable (int, float, complex, bool, str)\n",
    "    - Non-Primitive: hold one or more values and are usually mutable (list, tuple, set, frozenset, dict, bytes)\n",
    "\n",
    "Note:\n",
    "    - Only the most common Python data types are listed here.\n",
    "\n",
    "\"\"\"\n",
    "\n",
    "container = 10\n",
    "print(container, type(container))\n",
    "\n",
    "container = \"Hello world\"\n",
    "print(container, type(container))"
   ]
  },
  {
   "cell_type": "markdown",
   "id": "2b6369ff",
   "metadata": {},
   "source": [
    "## operators\n",
    "[Learn-more](https://www.programiz.com/python-programming/operators)"
   ]
  },
  {
   "cell_type": "code",
   "execution_count": 4,
   "id": "9d457d80",
   "metadata": {},
   "outputs": [],
   "source": [
    "# Arithmetic Operators: +, -, *, /, //, %, **\n",
    "\n",
    "# Assignment Operators: =, +=, -=, *=, /=, %=, **=, //=\n",
    "\n",
    "# Comparison Operators: <, >, <=, >=, ==, !=\n",
    "\n",
    "# Logical Operators: and, or, not\n",
    "\n",
    "# Bitwise Operators: |, &, ~, ^, <<, >>\n",
    "\n",
    "# Special Operators: is, is not, in, not in"
   ]
  },
  {
   "cell_type": "code",
   "execution_count": null,
   "id": "43db1b8c",
   "metadata": {},
   "outputs": [],
   "source": []
  },
  {
   "cell_type": "markdown",
   "id": "9d6e969b",
   "metadata": {},
   "source": [
    "## input/output"
   ]
  },
  {
   "cell_type": "code",
   "execution_count": 5,
   "id": "c89d4752",
   "metadata": {},
   "outputs": [],
   "source": [
    "# input\n",
    "\n",
    "# print\n",
    "\n",
    "# escape sequence (\\n, \\t, \\\\, \\', \\\")"
   ]
  }
 ],
 "metadata": {
  "kernelspec": {
   "display_name": "Python 3",
   "language": "python",
   "name": "python3"
  },
  "language_info": {
   "codemirror_mode": {
    "name": "ipython",
    "version": 3
   },
   "file_extension": ".py",
   "mimetype": "text/x-python",
   "name": "python",
   "nbconvert_exporter": "python",
   "pygments_lexer": "ipython3",
   "version": "3.10.12"
  }
 },
 "nbformat": 4,
 "nbformat_minor": 5
}
