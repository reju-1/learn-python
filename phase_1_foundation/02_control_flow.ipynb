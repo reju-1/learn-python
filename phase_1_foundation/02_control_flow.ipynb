{
 "cells": [
  {
   "cell_type": "markdown",
   "id": "6df0b93d",
   "metadata": {},
   "source": [
    "## Conditionals"
   ]
  },
  {
   "cell_type": "code",
   "execution_count": null,
   "id": "9d18f911",
   "metadata": {},
   "outputs": [],
   "source": []
  },
  {
   "cell_type": "markdown",
   "id": "cddeccf8",
   "metadata": {},
   "source": [
    "## Loops"
   ]
  },
  {
   "cell_type": "code",
   "execution_count": null,
   "id": "8528103f",
   "metadata": {},
   "outputs": [],
   "source": []
  },
  {
   "cell_type": "markdown",
   "id": "a06ee760",
   "metadata": {},
   "source": [
    "## Problem Solving"
   ]
  },
  {
   "cell_type": "markdown",
   "id": "68d41ad1",
   "metadata": {},
   "source": [
    "### 1. bmi calculator"
   ]
  },
  {
   "cell_type": "code",
   "execution_count": null,
   "id": "4328059a",
   "metadata": {},
   "outputs": [],
   "source": []
  },
  {
   "cell_type": "markdown",
   "id": "68c83816",
   "metadata": {},
   "source": [
    "### 2. find sum of even number"
   ]
  },
  {
   "cell_type": "code",
   "execution_count": null,
   "id": "9de27994",
   "metadata": {},
   "outputs": [],
   "source": []
  },
  {
   "cell_type": "markdown",
   "id": "885c794e",
   "metadata": {},
   "source": [
    "### 3. Reverse a number"
   ]
  },
  {
   "cell_type": "code",
   "execution_count": null,
   "id": "6b2adcdf",
   "metadata": {},
   "outputs": [],
   "source": []
  },
  {
   "cell_type": "markdown",
   "id": "a9517793",
   "metadata": {},
   "source": [
    "### 4. find nth fibonacci number\n",
    "fibonacci sequence: 0, 1, 1, 2, 3, 5, 8, 13, 21, 34, 55, 89, 144 "
   ]
  },
  {
   "cell_type": "code",
   "execution_count": null,
   "id": "07abb99f",
   "metadata": {},
   "outputs": [],
   "source": []
  }
 ],
 "metadata": {
  "kernelspec": {
   "display_name": "Python 3",
   "language": "python",
   "name": "python3"
  },
  "language_info": {
   "codemirror_mode": {
    "name": "ipython",
    "version": 3
   },
   "file_extension": ".py",
   "mimetype": "text/x-python",
   "name": "python",
   "nbconvert_exporter": "python",
   "pygments_lexer": "ipython3",
   "version": "3.10.12"
  }
 },
 "nbformat": 4,
 "nbformat_minor": 5
}
